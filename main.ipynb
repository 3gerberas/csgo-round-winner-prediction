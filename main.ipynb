{
 "cells": [
  {
   "cell_type": "code",
   "execution_count": null,
   "id": "3c97cfec-609f-4a1c-8a6f-ff9a6f7832fe",
   "metadata": {},
   "outputs": [],
   "source": [
    "import requests\n",
    "import pandas as pd\n",
    "# getting the dataset from openml \n",
    "url = \"https://www.openml.org/data/download/22102255/dataset\"\n",
    "r = requests.get(url, allow_redirects = True)"
   ]
  },
  {
   "cell_type": "code",
   "execution_count": null,
   "id": "8933b036-53d3-410b-9fa2-31fc9b876403",
   "metadata": {},
   "outputs": [],
   "source": [
    "with open(\"data.txt\", \"wb\") as f:\n",
    "    f.write(r.content)"
   ]
  },
  {
   "cell_type": "code",
   "execution_count": null,
   "id": "1850ab32-f881-4d7a-9a9e-56e388951ab6",
   "metadata": {},
   "outputs": [],
   "source": [
    "data = []\n",
    "\n",
    "with open(\"data.txt\", \"r\") as f:\n",
    "    for line in f.read().split(\"\\n\"):\n",
    "        if line.startswith(\"@\") or line.startswith(\"%\") or line == \"\":\n",
    "            continue\n",
    "        data.append(line)"
   ]
  },
  {
   "cell_type": "code",
   "execution_count": null,
   "id": "261aa8e2-b824-41f8-a37a-df76f812df59",
   "metadata": {},
   "outputs": [],
   "source": [
    "columns = []\n",
    "\n",
    "with open(\"data.txt\", \"r\") as f:\n",
    "    for line in f.read().split(\"\\n\"):\n",
    "        if line.startswith(\"@ATTRIBUTE\"):\n",
    "            columns.append(line.split(\" \")[1])"
   ]
  },
  {
   "cell_type": "code",
   "execution_count": null,
   "id": "796c05fb-7769-41ab-a3d2-c6c350a1233d",
   "metadata": {},
   "outputs": [],
   "source": [
    "# create a csv file that join collumns and data together\n",
    "with open(\"df.csv\", \"w\") as f:\n",
    "    f.write(\",\".join(columns))\n",
    "    f.write(\"\\n\")\n",
    "    f.write(\"\\n\".join(data))"
   ]
  },
  {
   "cell_type": "code",
   "execution_count": null,
   "id": "c0388a7f-75cc-44f5-863e-de72a7e727af",
   "metadata": {},
   "outputs": [],
   "source": [
    "df = pd.read_csv(\"df.csv\")\n",
    "df.columns = columns"
   ]
  },
  {
   "cell_type": "code",
   "execution_count": null,
   "id": "99956d2b-d51b-4aaa-a483-597e7f38a5a3",
   "metadata": {},
   "outputs": [],
   "source": [
    "# decode the t_win with 0 and 1\n",
    "df[\"t_win\"] = df[\"round_winner\"].astype(\"category\").cat.codes"
   ]
  },
  {
   "cell_type": "code",
   "execution_count": null,
   "id": "f63b741a-3125-414b-aed3-623ad86a67e4",
   "metadata": {},
   "outputs": [],
   "source": [
    "import matplotlib.pyplot as plt\n",
    "import seaborn as sns\n",
    "try:\n",
    "    correlations = df[columns + [\"t_win\"]].corr()\n",
    "except ValueError:\n",
    "    pass\n",
    "print(correlations['t_win'].apply(abs).sort_values(ascending = False).iloc[:25])"
   ]
  },
  {
   "cell_type": "code",
   "execution_count": null,
   "id": "b1b036de-3b3d-4560-b530-504d99e4b158",
   "metadata": {},
   "outputs": [],
   "source": [
    "selected_columns = []\n",
    "\n",
    "for col in columns + [\"t_win\"]:\n",
    "    try:\n",
    "        if abs(correlations[col][\"t_win\"]) > 0.15:\n",
    "            selected_columns.append(col)\n",
    "    except KeyError:\n",
    "        pass\n",
    "df_selected = df[selected_columns]"
   ]
  },
  {
   "cell_type": "code",
   "execution_count": null,
   "id": "76fba998-cb07-4795-88f9-ed0ef1cd5fe6",
   "metadata": {},
   "outputs": [],
   "source": [
    "fix, ax = plt.subplots(figsize = (18, 12))\n",
    "sns.heatmap(df_selected.corr().sort_values(by = \"t_win\"),\n",
    "            annot = True,\n",
    "            cmap = \"YlGnBu\");"
   ]
  },
  {
   "cell_type": "code",
   "execution_count": null,
   "id": "4050d217-ddb9-421b-9c23-0e8c62ffb17d",
   "metadata": {},
   "outputs": [],
   "source": [
    "df_selected.hist(figsize=(18, 12));"
   ]
  },
  {
   "cell_type": "code",
   "execution_count": null,
   "id": "c89594ea-20e5-4452-a7c1-a6921f436b1e",
   "metadata": {},
   "outputs": [],
   "source": [
    "from sklearn.model_selection import train_test_split\n",
    "\n",
    "# split the data into features and labels data\n",
    "X = df_selected.drop([\"t_win\"], axis = 1)\n",
    "y = df_selected[\"t_win\"]\n",
    "\n",
    "# split into train test and test set\n",
    "X_train, X_test, y_train, y_test = train_test_split(X, y, test_size=0.2)"
   ]
  },
  {
   "cell_type": "markdown",
   "id": "ab6089d3-8af7-4aad-84e5-844891178112",
   "metadata": {},
   "source": [
    "### Using KNeighborsClassifier "
   ]
  },
  {
   "cell_type": "code",
   "execution_count": null,
   "id": "533145f3-1f5d-421b-8e5b-b094e51f7b9d",
   "metadata": {},
   "outputs": [],
   "source": [
    "from sklearn.preprocessing import StandardScaler\n",
    "from sklearn.neighbors import KNeighborsClassifier \n",
    "\n",
    "sclaler = StandardScaler()\n",
    "X_train_scaled = sclaler.fit_transform(X_train) \n",
    "X_test_scaled = sclaler.transform(X_test)\n",
    "\n",
    "knn = KNeighborsClassifier()\n",
    "knn.fit(X_train_scaled, y_train);"
   ]
  },
  {
   "cell_type": "code",
   "execution_count": null,
   "id": "8882f8c9-2134-4566-b18a-2490b727208b",
   "metadata": {},
   "outputs": [],
   "source": [
    "knn.score(X_test_scaled, y_test)"
   ]
  },
  {
   "cell_type": "code",
   "execution_count": null,
   "id": "e764b9a1-3f13-47b5-a07f-a1cb35051b08",
   "metadata": {},
   "outputs": [],
   "source": [
    "from sklearn.model_selection import RandomizedSearchCV\n",
    "\n",
    "param_grid = {\n",
    "    \"n_neighbors\" : list(range(5, 17, 2)),\n",
    "    \"weights\" : [\"uniform\", \"distance\"]\n",
    "}\n",
    "\n",
    "knn = KNeighborsClassifier(n_jobs = 4) \n",
    "\n",
    "clf = RandomizedSearchCV(knn, param_grid, n_jobs = 4, n_iter = 3, verbose = 2, cv = 3)\n",
    "clf.fit(X_train_scaled, y_train);"
   ]
  },
  {
   "cell_type": "code",
   "execution_count": null,
   "id": "4555b082-b372-4bdb-8640-98a135498265",
   "metadata": {},
   "outputs": [],
   "source": [
    "knn = clf.best_estimator_\n",
    "knn.score(X_test_scaled, y_test)"
   ]
  },
  {
   "cell_type": "markdown",
   "id": "0b6bfd31-57ae-4f3b-8fc1-3c115a8ed5c2",
   "metadata": {},
   "source": [
    "### Using RandomForestClassifier"
   ]
  },
  {
   "cell_type": "code",
   "execution_count": null,
   "id": "e2cdf602-8e91-4977-bd2c-0d7d2e836dae",
   "metadata": {},
   "outputs": [],
   "source": [
    "from sklearn.ensemble import RandomForestClassifier\n",
    "\n",
    "forest = RandomForestClassifier()\n",
    "forest.fit(X_train_scaled, y_train);"
   ]
  },
  {
   "cell_type": "code",
   "execution_count": null,
   "id": "533d940d-5f41-4d1c-9bab-1059f638baa5",
   "metadata": {},
   "outputs": [],
   "source": [
    "forest.score(X_test_scaled, y_test)"
   ]
  },
  {
   "cell_type": "markdown",
   "id": "5b11cce2-858e-4761-87be-4181f964e763",
   "metadata": {},
   "source": [
    "### Using Neural Network with Tensorflow"
   ]
  },
  {
   "cell_type": "code",
   "execution_count": null,
   "id": "2de6df47-32bd-4bf8-b656-6dd689b3305b",
   "metadata": {},
   "outputs": [],
   "source": [
    "from tensorflow import keras\n",
    "\n",
    "model = keras.models.Sequential()\n",
    "model.add(keras.layers.Input(shape = (20, )))\n",
    "model.add(keras.layers.Dense(200, activation=\"relu\"))\n",
    "model.add(keras.layers.Dense(100, activation=\"relu\"))\n",
    "model.add(keras.layers.Dense(100, activation=\"relu\"))\n",
    "model.add(keras.layers.Dense(1, activation=\"sigmoid\"))"
   ]
  },
  {
   "cell_type": "code",
   "execution_count": null,
   "id": "81281a3b-e267-4bfa-898c-ad5136ecd682",
   "metadata": {},
   "outputs": [],
   "source": [
    "model.compile(loss = \"binary_crossentropy\", optimizer = \"adam\", metrics = [\"accuracy\"])"
   ]
  },
  {
   "cell_type": "code",
   "execution_count": null,
   "id": "dfc15785-335d-46e0-bff1-622e05421691",
   "metadata": {},
   "outputs": [],
   "source": [
    "early_stopping_cb = keras.callbacks.EarlyStopping(patience=5)\n",
    "\n",
    "X_train_scaled_train, X_valid, y_train_train, y_valid = train_test_split(X_train_scaled,\n",
    "                                                                         y_train,\n",
    "                                                                         test_size = 0.15)\n",
    "\n",
    "model.fit(X_train_scaled_train, y_train_train, epochs=30, callbacks=[early_stopping_cb], validation_data=(X_valid, y_valid))"
   ]
  },
  {
   "cell_type": "code",
   "execution_count": null,
   "id": "43fdf48e-852c-434d-a50e-6fc6a300d50b",
   "metadata": {},
   "outputs": [],
   "source": [
    "model.evaluate(X_test_scaled, y_test)"
   ]
  },
  {
   "cell_type": "code",
   "execution_count": null,
   "id": "5d14b083-6301-4485-8c6e-ffd04184668e",
   "metadata": {},
   "outputs": [],
   "source": []
  }
 ],
 "metadata": {
  "kernelspec": {
   "display_name": "Python 3 (ipykernel)",
   "language": "python",
   "name": "python3"
  },
  "language_info": {
   "codemirror_mode": {
    "name": "ipython",
    "version": 3
   },
   "file_extension": ".py",
   "mimetype": "text/x-python",
   "name": "python",
   "nbconvert_exporter": "python",
   "pygments_lexer": "ipython3",
   "version": "3.10.14"
  }
 },
 "nbformat": 4,
 "nbformat_minor": 5
}
